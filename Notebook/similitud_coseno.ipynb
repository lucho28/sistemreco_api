{
 "cells": [
  {
   "cell_type": "code",
   "execution_count": 2,
   "metadata": {},
   "outputs": [],
   "source": [
    "import numpy as np\n",
    "import pandas as pd\n",
    "import pyarrow\n",
    "import ast\n",
    "import matplotlib.pyplot as plt\n",
    "import seaborn as sns\n",
    "import pandas as pd\n",
    "from sklearn.feature_extraction.text import TfidfVectorizer\n",
    "from sklearn.neighbors import NearestNeighbors\n",
    "from sklearn.preprocessing import MinMaxScaler, StandardScaler\n",
    "data_movies = pd.read_parquet(\"../Source/data_movies.parquet\", engine=\"pyarrow\")"
   ]
  },
  {
   "cell_type": "code",
   "execution_count": 3,
   "metadata": {},
   "outputs": [],
   "source": [
    "data_movies_small = data_movies.head(5000)"
   ]
  },
  {
   "cell_type": "code",
   "execution_count": 4,
   "metadata": {},
   "outputs": [
    {
     "name": "stderr",
     "output_type": "stream",
     "text": [
      "/tmp/ipykernel_14702/4155649624.py:10: SettingWithCopyWarning: \n",
      "A value is trying to be set on a copy of a slice from a DataFrame.\n",
      "Try using .loc[row_indexer,col_indexer] = value instead\n",
      "\n",
      "See the caveats in the documentation: https://pandas.pydata.org/pandas-docs/stable/user_guide/indexing.html#returning-a-view-versus-a-copy\n",
      "  data_movies_small['overview'] = data_movies_small['overview'].fillna('')\n",
      "/tmp/ipykernel_14702/4155649624.py:16: SettingWithCopyWarning: \n",
      "A value is trying to be set on a copy of a slice from a DataFrame.\n",
      "Try using .loc[row_indexer,col_indexer] = value instead\n",
      "\n",
      "See the caveats in the documentation: https://pandas.pydata.org/pandas-docs/stable/user_guide/indexing.html#returning-a-view-versus-a-copy\n",
      "  data_movies_small['genre_name'] = data_movies_small['genre_name'].fillna('')\n",
      "/tmp/ipykernel_14702/4155649624.py:25: SettingWithCopyWarning: \n",
      "A value is trying to be set on a copy of a slice from a DataFrame.\n",
      "Try using .loc[row_indexer,col_indexer] = value instead\n",
      "\n",
      "See the caveats in the documentation: https://pandas.pydata.org/pandas-docs/stable/user_guide/indexing.html#returning-a-view-versus-a-copy\n",
      "  data_movies_small['release_year'] = data_movies_small['release_year'].fillna(0)\n"
     ]
    }
   ],
   "source": [
    "import pandas as pd\n",
    "from sklearn.feature_extraction.text import TfidfVectorizer\n",
    "from sklearn.metrics.pairwise import cosine_similarity\n",
    "from sklearn.preprocessing import MinMaxScaler\n",
    "\n",
    "# Paso 1: Procesar el texto de 'overview' usando TF-IDF\n",
    "tfidf = TfidfVectorizer(stop_words='english')\n",
    "\n",
    "# Llenar nulos en 'overview' con cadenas vacías\n",
    "data_movies_small['overview'] = data_movies_small['overview'].fillna('')\n",
    "\n",
    "# Aplicar TF-IDF a la columna 'overview'\n",
    "tfidf_matrix = tfidf.fit_transform(data_movies_small['overview'])\n",
    "\n",
    "# Paso 2: Procesar 'genre_name' usando One-Hot Encoding\n",
    "data_movies_small['genre_name'] = data_movies_small['genre_name'].fillna('')\n",
    "\n",
    "# One-Hot Encoding para el género\n",
    "genre_dummies = pd.get_dummies(data_movies_small['genre_name'])\n",
    "\n",
    "# Paso 3: Normalizar 'release_year'\n",
    "scaler = MinMaxScaler()\n",
    "\n",
    "# Rellenar nulos y escalar la columna de 'release_year'\n",
    "data_movies_small['release_year'] = data_movies_small['release_year'].fillna(0)\n",
    "release_year_scaled = scaler.fit_transform(data_movies_small[['release_year']])\n",
    "\n",
    "# Paso 4: Combinar las características (TF-IDF, género, y año de lanzamiento)\n",
    "from scipy.sparse import hstack\n",
    "\n",
    "# Combinar todas las características en una sola matriz\n",
    "features = hstack([tfidf_matrix, genre_dummies, release_year_scaled])\n",
    "\n",
    "# Paso 5: Calcular la similitud del coseno\n",
    "cosine_sim = cosine_similarity(features, features)\n",
    "\n",
    "# Función para obtener recomendaciones\n",
    "def get_recommendations(title, cosine_sim=cosine_sim):\n",
    "    # Verificar si el título existe en el DataFrame\n",
    "    if title not in data_movies_small['title'].values:\n",
    "        return f\"No se encontró el título '{title}' en el dataset.\"\n",
    "    # Obtener el índice de la película que coincide con el título\n",
    "    idx = data_movies_small[data_movies_small['title'] == title].index[0]\n",
    "    \n",
    "    # Obtener las puntuaciones de similitud de coseno para esa película\n",
    "    sim_scores = list(enumerate(cosine_sim[idx]))\n",
    "    \n",
    "    # Ordenar las películas en función de las puntuaciones de similitud\n",
    "    sim_scores = sorted(sim_scores, key=lambda x: x[1], reverse=True)\n",
    "    \n",
    "    # Obtener los índices de las 10 películas más similares\n",
    "    sim_scores = sim_scores[1:11]\n",
    "    \n",
    "    # Obtener los índices de las películas\n",
    "    movie_indices = [i[0] for i in sim_scores]\n",
    "    \n",
    "    # Retornar los títulos de las 10 películas más similares\n",
    "    return data_movies_small['title'].iloc[movie_indices]"
   ]
  },
  {
   "cell_type": "code",
   "execution_count": 6,
   "metadata": {},
   "outputs": [
    {
     "data": {
      "text/plain": [
       "1672            Deep Rising\n",
       "1612    Alien: Resurrection\n",
       "1635               Scream 2\n",
       "1210              Bad Taste\n",
       "1577               Phantoms\n",
       "1081          The Sleepover\n",
       "1518          Event Horizon\n",
       "1288            Blood Beach\n",
       "778         The Frighteners\n",
       "421          Body Snatchers\n",
       "Name: title, dtype: object"
      ]
     },
     "execution_count": 6,
     "metadata": {},
     "output_type": "execute_result"
    }
   ],
   "source": [
    "get_recommendations(\"Titanic\")"
   ]
  },
  {
   "cell_type": "code",
   "execution_count": 11,
   "metadata": {},
   "outputs": [],
   "source": [
    "def get_recommendations(title):\n",
    "    # Verificar si el título existe en el DataFrame\n",
    "    if title not in data_movies_small['title'].values:\n",
    "        return f\"No se encontró el título '{title}' en el dataset.\"\n",
    "\n",
    "    # Obtener el índice de la película que coincide con el título\n",
    "    idx = data_movies_small[data_movies_small['title'] == title].index[0]\n",
    "\n",
    "    # Obtener las puntuaciones de similitud de coseno para esa película\n",
    "    sim_scores = list(enumerate(cosine_sim[idx]))\n",
    "\n",
    "    # Ordenar las películas en función de las puntuaciones de similitud\n",
    "    sim_scores = sorted(sim_scores, key=lambda x: x[1], reverse=True)\n",
    "\n",
    "    # Obtener los índices de las 5 películas más similares\n",
    "    sim_scores = sim_scores[1:6]  # Cambiado para obtener solo las 5 películas más similares\n",
    "\n",
    "    # Obtener los índices de las películas\n",
    "    movie_indices = [i[0] for i in sim_scores]\n",
    "\n",
    "    # Retornar los títulos de las 5 películas más similares\n",
    "    return data_movies_small['title'].iloc[movie_indices]"
   ]
  },
  {
   "cell_type": "code",
   "execution_count": 12,
   "metadata": {},
   "outputs": [
    {
     "data": {
      "text/plain": [
       "1672            Deep Rising\n",
       "1612    Alien: Resurrection\n",
       "1635               Scream 2\n",
       "1210              Bad Taste\n",
       "1577               Phantoms\n",
       "Name: title, dtype: object"
      ]
     },
     "execution_count": 12,
     "metadata": {},
     "output_type": "execute_result"
    }
   ],
   "source": [
    "get_recommendations(\"Titanic\")"
   ]
  },
  {
   "cell_type": "code",
   "execution_count": null,
   "metadata": {},
   "outputs": [],
   "source": []
  },
  {
   "cell_type": "markdown",
   "metadata": {},
   "source": [
    "Como genre_name es una columna categórica (puede tener múltiples géneros en una sola película), puedes aplicar One-Hot Encoding o MultiLabelBinarizer para convertirla en una matriz binaria.\n",
    "\n",
    "One-Hot Encoding: Convierte cada género en una columna binaria (0 o 1), indicando si la película pertenece a ese género o no."
   ]
  },
  {
   "cell_type": "markdown",
   "metadata": {},
   "source": [
    "2. Escalar release_year:\n",
    "release_year es una columna numérica, pero sus valores pueden variar mucho (por ejemplo, de 1920 a 2020). Para que esta columna esté en una escala comparable a las otras, necesitas escalar sus valores, por ejemplo, utilizando MinMaxScaler para poner los valores entre 0 y 1."
   ]
  },
  {
   "cell_type": "code",
   "execution_count": null,
   "metadata": {},
   "outputs": [],
   "source": []
  },
  {
   "cell_type": "code",
   "execution_count": null,
   "metadata": {},
   "outputs": [],
   "source": []
  },
  {
   "cell_type": "code",
   "execution_count": null,
   "metadata": {},
   "outputs": [],
   "source": []
  },
  {
   "cell_type": "code",
   "execution_count": 13,
   "metadata": {},
   "outputs": [
    {
     "name": "stderr",
     "output_type": "stream",
     "text": [
      "/tmp/ipykernel_14702/2524686418.py:10: SettingWithCopyWarning: \n",
      "A value is trying to be set on a copy of a slice from a DataFrame.\n",
      "Try using .loc[row_indexer,col_indexer] = value instead\n",
      "\n",
      "See the caveats in the documentation: https://pandas.pydata.org/pandas-docs/stable/user_guide/indexing.html#returning-a-view-versus-a-copy\n",
      "  data_movies_small['overview'] = data_movies_small['overview'].fillna('')\n",
      "/tmp/ipykernel_14702/2524686418.py:16: SettingWithCopyWarning: \n",
      "A value is trying to be set on a copy of a slice from a DataFrame.\n",
      "Try using .loc[row_indexer,col_indexer] = value instead\n",
      "\n",
      "See the caveats in the documentation: https://pandas.pydata.org/pandas-docs/stable/user_guide/indexing.html#returning-a-view-versus-a-copy\n",
      "  data_movies_small['genre_name'] = data_movies_small['genre_name'].fillna('')\n",
      "/tmp/ipykernel_14702/2524686418.py:25: SettingWithCopyWarning: \n",
      "A value is trying to be set on a copy of a slice from a DataFrame.\n",
      "Try using .loc[row_indexer,col_indexer] = value instead\n",
      "\n",
      "See the caveats in the documentation: https://pandas.pydata.org/pandas-docs/stable/user_guide/indexing.html#returning-a-view-versus-a-copy\n",
      "  data_movies_small['release_year'] = data_movies_small['release_year'].fillna(0)\n"
     ]
    }
   ],
   "source": [
    "import pandas as pd\n",
    "from sklearn.feature_extraction.text import TfidfVectorizer\n",
    "from sklearn.metrics.pairwise import cosine_similarity\n",
    "from sklearn.preprocessing import MinMaxScaler\n",
    "\n",
    "# Paso 1: Procesar el texto de 'overview' usando TF-IDF\n",
    "tfidf = TfidfVectorizer(stop_words='english')\n",
    "\n",
    "# Llenar nulos en 'overview' con cadenas vacías\n",
    "data_movies_small['overview'] = data_movies_small['overview'].fillna('')\n",
    "\n",
    "# Aplicar TF-IDF a la columna 'overview'\n",
    "tfidf_matrix = tfidf.fit_transform(data_movies_small['overview'])\n",
    "\n",
    "# Paso 2: Procesar 'genre_name' usando One-Hot Encoding\n",
    "data_movies_small['genre_name'] = data_movies_small['genre_name'].fillna('')\n",
    "\n",
    "# One-Hot Encoding para el género\n",
    "genre_dummies = pd.get_dummies(data_movies_small['genre_name'])\n",
    "\n",
    "# Paso 3: Normalizar 'release_year'\n",
    "scaler = MinMaxScaler()\n",
    "\n",
    "# Rellenar nulos y escalar la columna de 'release_year'\n",
    "data_movies_small['release_year'] = data_movies_small['release_year'].fillna(0)\n",
    "release_year_scaled = scaler.fit_transform(data_movies_small[['release_year']])\n",
    "\n",
    "# Paso 4: Combinar las características (TF-IDF, género, y año de lanzamiento)\n",
    "from scipy.sparse import hstack\n",
    "\n",
    "# Combinar todas las características en una sola matriz\n",
    "features = hstack([tfidf_matrix, genre_dummies, release_year_scaled])\n",
    "\n",
    "# Paso 5: Calcular la similitud del coseno\n",
    "cosine_sim = cosine_similarity(features)"
   ]
  },
  {
   "cell_type": "code",
   "execution_count": 14,
   "metadata": {},
   "outputs": [],
   "source": [
    "def get_recommendations(title):\n",
    "    # Verificar si el título existe en el DataFrame\n",
    "    if title not in data_movies_small['title'].values:\n",
    "        return f\"No se encontró el título '{title}' en el dataset.\"\n",
    "\n",
    "    # Obtener el índice de la película que coincide con el título\n",
    "    idx = data_movies_small[data_movies_small['title'] == title].index[0]\n",
    "\n",
    "    # Obtener las puntuaciones de similitud de coseno para esa película\n",
    "    sim_scores = list(enumerate(cosine_sim[idx]))\n",
    "\n",
    "    # Ordenar las películas en función de las puntuaciones de similitud\n",
    "    sim_scores = sorted(sim_scores, key=lambda x: x[1], reverse=True)\n",
    "\n",
    "    # Obtener los índices de las 5 películas más similares\n",
    "    sim_scores = sim_scores[1:6]  # Cambiado para obtener solo las 5 películas más similares\n",
    "\n",
    "    # Obtener los índices de las películas\n",
    "    movie_indices = [i[0] for i in sim_scores]\n",
    "\n",
    "    # Retornar los títulos de las 5 películas más similares\n",
    "    return data_movies_small['title'].iloc[movie_indices]"
   ]
  },
  {
   "cell_type": "code",
   "execution_count": 16,
   "metadata": {},
   "outputs": [
    {
     "data": {
      "text/plain": [
       "1672            Deep Rising\n",
       "1612    Alien: Resurrection\n",
       "1635               Scream 2\n",
       "1210              Bad Taste\n",
       "1577               Phantoms\n",
       "Name: title, dtype: object"
      ]
     },
     "execution_count": 16,
     "metadata": {},
     "output_type": "execute_result"
    }
   ],
   "source": [
    "get_recommendations(\"Titanic\")"
   ]
  }
 ],
 "metadata": {
  "kernelspec": {
   "display_name": "env_sistemreco",
   "language": "python",
   "name": "python3"
  },
  "language_info": {
   "codemirror_mode": {
    "name": "ipython",
    "version": 3
   },
   "file_extension": ".py",
   "mimetype": "text/x-python",
   "name": "python",
   "nbconvert_exporter": "python",
   "pygments_lexer": "ipython3",
   "version": "3.11.2"
  }
 },
 "nbformat": 4,
 "nbformat_minor": 2
}
