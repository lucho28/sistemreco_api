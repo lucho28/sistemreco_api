{
 "cells": [
  {
   "cell_type": "markdown",
   "metadata": {},
   "source": [
    "## Comenzamos con la importancion de las librerias necesarias para este proyecto"
   ]
  },
  {
   "cell_type": "code",
   "execution_count": null,
   "metadata": {},
   "outputs": [],
   "source": [
    "import numpy as np\n",
    "import pandas as pd\n",
    "import pyarrow\n",
    "import ast\n",
    "import matplotlib.pyplot as plt\n",
    "import seaborn as sns\n",
    "import pandas as pd\n",
    "from sklearn.feature_extraction.text import TfidfVectorizer\n",
    "from sklearn.neighbors import NearestNeighbors"
   ]
  },
  {
   "cell_type": "markdown",
   "metadata": {},
   "source": [
    "## Carga de los archivos CSV"
   ]
  },
  {
   "cell_type": "code",
   "execution_count": null,
   "metadata": {},
   "outputs": [],
   "source": [
    "data_movies = pd.read_csv(\"../datasets_originales/Movies/movies_dataset.csv\", low_memory=False)\n",
    "data_credits = pd.read_csv(\"../datasets_originales/Movies/credits.csv\", low_memory=False)"
   ]
  },
  {
   "cell_type": "markdown",
   "metadata": {},
   "source": [
    "## Comenzamos con el ETL para el datasets data_movies"
   ]
  },
  {
   "cell_type": "markdown",
   "metadata": {},
   "source": [
    "* Reemplazo de valores nulero de los campos revenue por 0\n",
    "* Reemplazo de valores nulero de los campos budget por 0\n",
    "* Eliminacion de los campos nulos de release_date\n",
    "* Cambiar formato AAAA-mm-dd de la columna release_date\n",
    "* Creacion de la columna release_year"
   ]
  },
  {
   "cell_type": "code",
   "execution_count": null,
   "metadata": {},
   "outputs": [],
   "source": [
    "# Conversion de las columnas revenue, budget y id a numericos\n",
    "# Intercambio nulos por Ceros\n",
    "data_movies['revenue'] = pd.to_numeric(data_movies['revenue'], errors='coerce').fillna(0)\n",
    "data_movies['budget'] = pd.to_numeric(data_movies['budget'], errors='coerce').fillna(0)\n",
    "\n",
    "# Eliminacion de nulos de la columna release_date y\n",
    "# paso todo al tipo de dato date y el formato YYYY-mm-dd\n",
    "data_movies = data_movies.dropna(subset=\"release_date\")\n",
    "data_movies[\"release_date\"] = pd.to_datetime(data_movies[\"release_date\"], format='%Y-%m-%d', errors='coerce')\n",
    "\n",
    "# Creando la columna release_year\n",
    "data_movies['release_year'] = data_movies['release_date'].dt.year\n",
    "\n",
    "# Creando la columna return\n",
    "data_movies['return'] = data_movies.apply(lambda row: row['revenue'] / row['budget'] if row['budget'] > 0 else 0, axis=1)"
   ]
  },
  {
   "cell_type": "code",
   "execution_count": null,
   "metadata": {},
   "outputs": [],
   "source": [
    "# Convertir la columna 'id' a numérico, los valores no numéricos se convertirán a NaN\n",
    "data_movies['id'] = pd.to_numeric(data_movies['id'], errors='coerce')\n",
    "\n",
    "# Eliminar las filas que tengan NaN en la columna 'id'\n",
    "data_movies = data_movies.dropna(subset=['id'])\n",
    "\n",
    "# Convertir la columna 'id' a tipo entero\n",
    "data_movies['id'] = data_movies['id'].astype(int)"
   ]
  },
  {
   "cell_type": "code",
   "execution_count": null,
   "metadata": {},
   "outputs": [],
   "source": [
    "data_movies.info()"
   ]
  },
  {
   "cell_type": "markdown",
   "metadata": {},
   "source": [
    "### Eliminacion de algunas columnas que no seran utilizadas\n",
    "\n",
    "* video\n",
    "* imdb\n",
    "* adult\n",
    "* original_title\n",
    "* poster_path\n",
    "* homepage\n",
    "* tagline\n",
    "* runtime\n",
    "* belongs_to_collection"
   ]
  },
  {
   "cell_type": "code",
   "execution_count": 12,
   "metadata": {},
   "outputs": [],
   "source": [
    "# Elimino las columnas que no se van a utilizar antes de seguir\n",
    "# con cambio de valores nulos o tipos de datos\n",
    "columnas_eliminar = [\"video\",\"imdb_id\",\"adult\",\"original_title\",\n",
    "                     \"tagline\",\"runtime\",\"poster_path\",\"homepage\",\n",
    "                     \"belongs_to_collection\"]\n",
    "data_movies = data_movies.drop(columns=columnas_eliminar)"
   ]
  },
  {
   "cell_type": "markdown",
   "metadata": {},
   "source": [
    "### Desanidando la columna genres"
   ]
  },
  {
   "cell_type": "code",
   "execution_count": 13,
   "metadata": {},
   "outputs": [],
   "source": [
    "data_movies['genres'] = data_movies['genres'].apply(ast.literal_eval)\n",
    "data_movies = data_movies.explode('genres')\n",
    "data_movies['genre_name'] = data_movies['genres'].apply(lambda x: x['name'] if isinstance(x, dict) else None)\n",
    "data_movies = data_movies.drop(columns=['genres'])"
   ]
  },
  {
   "cell_type": "markdown",
   "metadata": {},
   "source": [
    "### Teniendo en cuenta el modelo final (MPV) elimino otras columnas que luego no voy a tener en cuenta. "
   ]
  },
  {
   "cell_type": "code",
   "execution_count": 14,
   "metadata": {},
   "outputs": [],
   "source": [
    "columnas_eliminar = ['production_companies','production_countries',\n",
    "                     'spoken_languages']\n",
    "data_movies = data_movies.drop(columns=columnas_eliminar)"
   ]
  },
  {
   "cell_type": "markdown",
   "metadata": {},
   "source": [
    "### Verificamos tipos de datos"
   ]
  },
  {
   "cell_type": "code",
   "execution_count": 16,
   "metadata": {},
   "outputs": [
    {
     "name": "stdout",
     "output_type": "stream",
     "text": [
      "<class 'pandas.core.frame.DataFrame'>\n",
      "Index: 93420 entries, 0 to 45465\n",
      "Data columns (total 14 columns):\n",
      " #   Column             Non-Null Count  Dtype         \n",
      "---  ------             --------------  -----         \n",
      " 0   budget             93420 non-null  float64       \n",
      " 1   id                 93420 non-null  int64         \n",
      " 2   original_language  93403 non-null  object        \n",
      " 3   overview           92104 non-null  object        \n",
      " 4   popularity         93420 non-null  object        \n",
      " 5   release_date       93420 non-null  datetime64[ns]\n",
      " 6   revenue            93420 non-null  float64       \n",
      " 7   status             93296 non-null  object        \n",
      " 8   title              93420 non-null  object        \n",
      " 9   vote_average       93420 non-null  float64       \n",
      " 10  vote_count         93420 non-null  float64       \n",
      " 11  release_year       93420 non-null  float64       \n",
      " 12  return             93420 non-null  float64       \n",
      " 13  genre_name         91036 non-null  object        \n",
      "dtypes: datetime64[ns](1), float64(6), int64(1), object(6)\n",
      "memory usage: 10.7+ MB\n"
     ]
    }
   ],
   "source": [
    "data_movies.info()"
   ]
  },
  {
   "cell_type": "markdown",
   "metadata": {},
   "source": [
    "### Cambiando algunos tipos de datos\n",
    "\n",
    "* Columna release_year\n",
    "* Columna genre_name\n",
    "* Columna title\n",
    "* Columna overviwe"
   ]
  },
  {
   "cell_type": "code",
   "execution_count": 22,
   "metadata": {},
   "outputs": [],
   "source": [
    "data_movies['release_year'] = data_movies['release_year'].astype('datetime64[ns]')\n",
    "data_movies['genre_name'] = data_movies['genre_name'].astype(str)\n",
    "data_movies['title'] = data_movies['title'].astype(str)\n",
    "data_movies['overview'] = data_movies['overview'].astype(str)"
   ]
  },
  {
   "cell_type": "code",
   "execution_count": 24,
   "metadata": {},
   "outputs": [
    {
     "name": "stdout",
     "output_type": "stream",
     "text": [
      "<class 'pandas.core.frame.DataFrame'>\n",
      "Index: 93420 entries, 0 to 45465\n",
      "Data columns (total 14 columns):\n",
      " #   Column             Non-Null Count  Dtype         \n",
      "---  ------             --------------  -----         \n",
      " 0   budget             93420 non-null  float64       \n",
      " 1   id                 93420 non-null  int64         \n",
      " 2   original_language  93403 non-null  object        \n",
      " 3   overview           93420 non-null  object        \n",
      " 4   popularity         93420 non-null  object        \n",
      " 5   release_date       93420 non-null  datetime64[ns]\n",
      " 6   revenue            93420 non-null  float64       \n",
      " 7   status             93296 non-null  object        \n",
      " 8   title              93420 non-null  object        \n",
      " 9   vote_average       93420 non-null  float64       \n",
      " 10  vote_count         93420 non-null  float64       \n",
      " 11  release_year       93420 non-null  datetime64[ns]\n",
      " 12  return             93420 non-null  float64       \n",
      " 13  genre_name         93420 non-null  object        \n",
      "dtypes: datetime64[ns](2), float64(5), int64(1), object(6)\n",
      "memory usage: 10.7+ MB\n"
     ]
    }
   ],
   "source": [
    "data_movies.info()"
   ]
  },
  {
   "cell_type": "code",
   "execution_count": 25,
   "metadata": {},
   "outputs": [
    {
     "data": {
      "text/html": [
       "<div>\n",
       "<style scoped>\n",
       "    .dataframe tbody tr th:only-of-type {\n",
       "        vertical-align: middle;\n",
       "    }\n",
       "\n",
       "    .dataframe tbody tr th {\n",
       "        vertical-align: top;\n",
       "    }\n",
       "\n",
       "    .dataframe thead th {\n",
       "        text-align: right;\n",
       "    }\n",
       "</style>\n",
       "<table border=\"1\" class=\"dataframe\">\n",
       "  <thead>\n",
       "    <tr style=\"text-align: right;\">\n",
       "      <th></th>\n",
       "      <th>budget</th>\n",
       "      <th>id</th>\n",
       "      <th>original_language</th>\n",
       "      <th>overview</th>\n",
       "      <th>popularity</th>\n",
       "      <th>release_date</th>\n",
       "      <th>revenue</th>\n",
       "      <th>status</th>\n",
       "      <th>title</th>\n",
       "      <th>vote_average</th>\n",
       "      <th>vote_count</th>\n",
       "      <th>release_year</th>\n",
       "      <th>return</th>\n",
       "      <th>genre_name</th>\n",
       "    </tr>\n",
       "  </thead>\n",
       "  <tbody>\n",
       "    <tr>\n",
       "      <th>0</th>\n",
       "      <td>30000000.0</td>\n",
       "      <td>862</td>\n",
       "      <td>en</td>\n",
       "      <td>Led by Woody, Andy's toys live happily in his ...</td>\n",
       "      <td>21.946943</td>\n",
       "      <td>1995-10-30</td>\n",
       "      <td>373554033.0</td>\n",
       "      <td>Released</td>\n",
       "      <td>Toy Story</td>\n",
       "      <td>7.7</td>\n",
       "      <td>5415.0</td>\n",
       "      <td>1970-01-01 00:00:00.000001995</td>\n",
       "      <td>12.451801</td>\n",
       "      <td>Animation</td>\n",
       "    </tr>\n",
       "    <tr>\n",
       "      <th>0</th>\n",
       "      <td>30000000.0</td>\n",
       "      <td>862</td>\n",
       "      <td>en</td>\n",
       "      <td>Led by Woody, Andy's toys live happily in his ...</td>\n",
       "      <td>21.946943</td>\n",
       "      <td>1995-10-30</td>\n",
       "      <td>373554033.0</td>\n",
       "      <td>Released</td>\n",
       "      <td>Toy Story</td>\n",
       "      <td>7.7</td>\n",
       "      <td>5415.0</td>\n",
       "      <td>1970-01-01 00:00:00.000001995</td>\n",
       "      <td>12.451801</td>\n",
       "      <td>Comedy</td>\n",
       "    </tr>\n",
       "    <tr>\n",
       "      <th>0</th>\n",
       "      <td>30000000.0</td>\n",
       "      <td>862</td>\n",
       "      <td>en</td>\n",
       "      <td>Led by Woody, Andy's toys live happily in his ...</td>\n",
       "      <td>21.946943</td>\n",
       "      <td>1995-10-30</td>\n",
       "      <td>373554033.0</td>\n",
       "      <td>Released</td>\n",
       "      <td>Toy Story</td>\n",
       "      <td>7.7</td>\n",
       "      <td>5415.0</td>\n",
       "      <td>1970-01-01 00:00:00.000001995</td>\n",
       "      <td>12.451801</td>\n",
       "      <td>Family</td>\n",
       "    </tr>\n",
       "    <tr>\n",
       "      <th>1</th>\n",
       "      <td>65000000.0</td>\n",
       "      <td>8844</td>\n",
       "      <td>en</td>\n",
       "      <td>When siblings Judy and Peter discover an encha...</td>\n",
       "      <td>17.015539</td>\n",
       "      <td>1995-12-15</td>\n",
       "      <td>262797249.0</td>\n",
       "      <td>Released</td>\n",
       "      <td>Jumanji</td>\n",
       "      <td>6.9</td>\n",
       "      <td>2413.0</td>\n",
       "      <td>1970-01-01 00:00:00.000001995</td>\n",
       "      <td>4.043035</td>\n",
       "      <td>Adventure</td>\n",
       "    </tr>\n",
       "    <tr>\n",
       "      <th>1</th>\n",
       "      <td>65000000.0</td>\n",
       "      <td>8844</td>\n",
       "      <td>en</td>\n",
       "      <td>When siblings Judy and Peter discover an encha...</td>\n",
       "      <td>17.015539</td>\n",
       "      <td>1995-12-15</td>\n",
       "      <td>262797249.0</td>\n",
       "      <td>Released</td>\n",
       "      <td>Jumanji</td>\n",
       "      <td>6.9</td>\n",
       "      <td>2413.0</td>\n",
       "      <td>1970-01-01 00:00:00.000001995</td>\n",
       "      <td>4.043035</td>\n",
       "      <td>Fantasy</td>\n",
       "    </tr>\n",
       "    <tr>\n",
       "      <th>...</th>\n",
       "      <td>...</td>\n",
       "      <td>...</td>\n",
       "      <td>...</td>\n",
       "      <td>...</td>\n",
       "      <td>...</td>\n",
       "      <td>...</td>\n",
       "      <td>...</td>\n",
       "      <td>...</td>\n",
       "      <td>...</td>\n",
       "      <td>...</td>\n",
       "      <td>...</td>\n",
       "      <td>...</td>\n",
       "      <td>...</td>\n",
       "      <td>...</td>\n",
       "    </tr>\n",
       "    <tr>\n",
       "      <th>45463</th>\n",
       "      <td>0.0</td>\n",
       "      <td>67758</td>\n",
       "      <td>en</td>\n",
       "      <td>When one of her hits goes wrong, a professiona...</td>\n",
       "      <td>0.903007</td>\n",
       "      <td>2003-08-01</td>\n",
       "      <td>0.0</td>\n",
       "      <td>Released</td>\n",
       "      <td>Betrayal</td>\n",
       "      <td>3.8</td>\n",
       "      <td>6.0</td>\n",
       "      <td>1970-01-01 00:00:00.000002003</td>\n",
       "      <td>0.000000</td>\n",
       "      <td>Action</td>\n",
       "    </tr>\n",
       "    <tr>\n",
       "      <th>45463</th>\n",
       "      <td>0.0</td>\n",
       "      <td>67758</td>\n",
       "      <td>en</td>\n",
       "      <td>When one of her hits goes wrong, a professiona...</td>\n",
       "      <td>0.903007</td>\n",
       "      <td>2003-08-01</td>\n",
       "      <td>0.0</td>\n",
       "      <td>Released</td>\n",
       "      <td>Betrayal</td>\n",
       "      <td>3.8</td>\n",
       "      <td>6.0</td>\n",
       "      <td>1970-01-01 00:00:00.000002003</td>\n",
       "      <td>0.000000</td>\n",
       "      <td>Drama</td>\n",
       "    </tr>\n",
       "    <tr>\n",
       "      <th>45463</th>\n",
       "      <td>0.0</td>\n",
       "      <td>67758</td>\n",
       "      <td>en</td>\n",
       "      <td>When one of her hits goes wrong, a professiona...</td>\n",
       "      <td>0.903007</td>\n",
       "      <td>2003-08-01</td>\n",
       "      <td>0.0</td>\n",
       "      <td>Released</td>\n",
       "      <td>Betrayal</td>\n",
       "      <td>3.8</td>\n",
       "      <td>6.0</td>\n",
       "      <td>1970-01-01 00:00:00.000002003</td>\n",
       "      <td>0.000000</td>\n",
       "      <td>Thriller</td>\n",
       "    </tr>\n",
       "    <tr>\n",
       "      <th>45464</th>\n",
       "      <td>0.0</td>\n",
       "      <td>227506</td>\n",
       "      <td>en</td>\n",
       "      <td>In a small town live two brothers, one a minis...</td>\n",
       "      <td>0.003503</td>\n",
       "      <td>1917-10-21</td>\n",
       "      <td>0.0</td>\n",
       "      <td>Released</td>\n",
       "      <td>Satan Triumphant</td>\n",
       "      <td>0.0</td>\n",
       "      <td>0.0</td>\n",
       "      <td>1970-01-01 00:00:00.000001917</td>\n",
       "      <td>0.000000</td>\n",
       "      <td>None</td>\n",
       "    </tr>\n",
       "    <tr>\n",
       "      <th>45465</th>\n",
       "      <td>0.0</td>\n",
       "      <td>461257</td>\n",
       "      <td>en</td>\n",
       "      <td>50 years after decriminalisation of homosexual...</td>\n",
       "      <td>0.163015</td>\n",
       "      <td>2017-06-09</td>\n",
       "      <td>0.0</td>\n",
       "      <td>Released</td>\n",
       "      <td>Queerama</td>\n",
       "      <td>0.0</td>\n",
       "      <td>0.0</td>\n",
       "      <td>1970-01-01 00:00:00.000002017</td>\n",
       "      <td>0.000000</td>\n",
       "      <td>None</td>\n",
       "    </tr>\n",
       "  </tbody>\n",
       "</table>\n",
       "<p>93420 rows × 14 columns</p>\n",
       "</div>"
      ],
      "text/plain": [
       "           budget      id original_language  \\\n",
       "0      30000000.0     862                en   \n",
       "0      30000000.0     862                en   \n",
       "0      30000000.0     862                en   \n",
       "1      65000000.0    8844                en   \n",
       "1      65000000.0    8844                en   \n",
       "...           ...     ...               ...   \n",
       "45463         0.0   67758                en   \n",
       "45463         0.0   67758                en   \n",
       "45463         0.0   67758                en   \n",
       "45464         0.0  227506                en   \n",
       "45465         0.0  461257                en   \n",
       "\n",
       "                                                overview popularity  \\\n",
       "0      Led by Woody, Andy's toys live happily in his ...  21.946943   \n",
       "0      Led by Woody, Andy's toys live happily in his ...  21.946943   \n",
       "0      Led by Woody, Andy's toys live happily in his ...  21.946943   \n",
       "1      When siblings Judy and Peter discover an encha...  17.015539   \n",
       "1      When siblings Judy and Peter discover an encha...  17.015539   \n",
       "...                                                  ...        ...   \n",
       "45463  When one of her hits goes wrong, a professiona...   0.903007   \n",
       "45463  When one of her hits goes wrong, a professiona...   0.903007   \n",
       "45463  When one of her hits goes wrong, a professiona...   0.903007   \n",
       "45464  In a small town live two brothers, one a minis...   0.003503   \n",
       "45465  50 years after decriminalisation of homosexual...   0.163015   \n",
       "\n",
       "      release_date      revenue    status             title  vote_average  \\\n",
       "0       1995-10-30  373554033.0  Released         Toy Story           7.7   \n",
       "0       1995-10-30  373554033.0  Released         Toy Story           7.7   \n",
       "0       1995-10-30  373554033.0  Released         Toy Story           7.7   \n",
       "1       1995-12-15  262797249.0  Released           Jumanji           6.9   \n",
       "1       1995-12-15  262797249.0  Released           Jumanji           6.9   \n",
       "...            ...          ...       ...               ...           ...   \n",
       "45463   2003-08-01          0.0  Released          Betrayal           3.8   \n",
       "45463   2003-08-01          0.0  Released          Betrayal           3.8   \n",
       "45463   2003-08-01          0.0  Released          Betrayal           3.8   \n",
       "45464   1917-10-21          0.0  Released  Satan Triumphant           0.0   \n",
       "45465   2017-06-09          0.0  Released          Queerama           0.0   \n",
       "\n",
       "       vote_count                  release_year     return genre_name  \n",
       "0          5415.0 1970-01-01 00:00:00.000001995  12.451801  Animation  \n",
       "0          5415.0 1970-01-01 00:00:00.000001995  12.451801     Comedy  \n",
       "0          5415.0 1970-01-01 00:00:00.000001995  12.451801     Family  \n",
       "1          2413.0 1970-01-01 00:00:00.000001995   4.043035  Adventure  \n",
       "1          2413.0 1970-01-01 00:00:00.000001995   4.043035    Fantasy  \n",
       "...           ...                           ...        ...        ...  \n",
       "45463         6.0 1970-01-01 00:00:00.000002003   0.000000     Action  \n",
       "45463         6.0 1970-01-01 00:00:00.000002003   0.000000      Drama  \n",
       "45463         6.0 1970-01-01 00:00:00.000002003   0.000000   Thriller  \n",
       "45464         0.0 1970-01-01 00:00:00.000001917   0.000000       None  \n",
       "45465         0.0 1970-01-01 00:00:00.000002017   0.000000       None  \n",
       "\n",
       "[93420 rows x 14 columns]"
      ]
     },
     "execution_count": 25,
     "metadata": {},
     "output_type": "execute_result"
    }
   ],
   "source": [
    "data_movies"
   ]
  },
  {
   "cell_type": "markdown",
   "metadata": {},
   "source": [
    "### Guardamos el archivo en parquet y pasamos al EDA"
   ]
  },
  {
   "cell_type": "code",
   "execution_count": 36,
   "metadata": {},
   "outputs": [],
   "source": [
    "data_movies.to_parquet('../Source/data_movies.parquet')"
   ]
  }
 ],
 "metadata": {
  "kernelspec": {
   "display_name": "env_sistemreco",
   "language": "python",
   "name": "python3"
  },
  "language_info": {
   "codemirror_mode": {
    "name": "ipython",
    "version": 3
   },
   "file_extension": ".py",
   "mimetype": "text/x-python",
   "name": "python",
   "nbconvert_exporter": "python",
   "pygments_lexer": "ipython3",
   "version": "3.11.2"
  }
 },
 "nbformat": 4,
 "nbformat_minor": 2
}
