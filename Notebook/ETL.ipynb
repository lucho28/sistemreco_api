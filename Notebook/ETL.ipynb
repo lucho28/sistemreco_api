{
 "cells": [
  {
   "cell_type": "markdown",
   "metadata": {},
   "source": [
    "## Comenzamos con la importancion de las librerias necesarias para este proyecto"
   ]
  },
  {
   "cell_type": "code",
   "execution_count": 38,
   "metadata": {},
   "outputs": [],
   "source": [
    "import numpy as np\n",
    "import pandas as pd\n",
    "import pyarrow\n",
    "import ast\n",
    "import matplotlib.pyplot as plt\n",
    "import seaborn as sns\n",
    "import pandas as pd\n",
    "from sklearn.feature_extraction.text import TfidfVectorizer\n",
    "from sklearn.neighbors import NearestNeighbors"
   ]
  },
  {
   "cell_type": "markdown",
   "metadata": {},
   "source": [
    "## Carga de los archivos CSV"
   ]
  },
  {
   "cell_type": "code",
   "execution_count": 39,
   "metadata": {},
   "outputs": [],
   "source": [
    "data_movies = pd.read_csv(\"../datasets_originales/Movies/movies_dataset.csv\", low_memory=False)\n",
    "data_credits = pd.read_csv(\"../datasets_originales/Movies/credits.csv\", low_memory=False)"
   ]
  },
  {
   "cell_type": "markdown",
   "metadata": {},
   "source": [
    "## Comenzamos con el ETL para el datasets data_movies"
   ]
  },
  {
   "cell_type": "markdown",
   "metadata": {},
   "source": [
    "* Reemplazo de valores nulero de los campos revenue por 0\n",
    "* Reemplazo de valores nulero de los campos budget por 0\n",
    "* Eliminacion de los campos nulos de release_date\n",
    "* Cambiar formato AAAA-mm-dd de la columna release_date\n",
    "* Creacion de la columna release_year"
   ]
  },
  {
   "cell_type": "code",
   "execution_count": 40,
   "metadata": {},
   "outputs": [],
   "source": [
    "# Conversion de las columnas revenue, budget y id a numericos\n",
    "# Intercambio nulos por Ceros\n",
    "data_movies['revenue'] = pd.to_numeric(data_movies['revenue'], errors='coerce').fillna(0)\n",
    "data_movies['budget'] = pd.to_numeric(data_movies['budget'], errors='coerce').fillna(0)\n",
    "\n",
    "# Eliminacion de nulos de la columna release_date y\n",
    "# paso todo al tipo de dato date y el formato YYYY-mm-dd\n",
    "data_movies = data_movies.dropna(subset=\"release_date\")\n",
    "data_movies[\"release_date\"] = pd.to_datetime(data_movies[\"release_date\"], format='%Y-%m-%d', errors='coerce')\n",
    "\n",
    "# Creando la columna release_year\n",
    "data_movies['release_year'] = data_movies['release_date'].dt.year\n",
    "\n",
    "# Creando la columna return\n",
    "data_movies['return'] = data_movies.apply(lambda row: row['revenue'] / row['budget'] if row['budget'] > 0 else 0, axis=1)"
   ]
  },
  {
   "cell_type": "code",
   "execution_count": 41,
   "metadata": {},
   "outputs": [],
   "source": [
    "# Convertir la columna 'id' a numérico, los valores no numéricos se convertirán a NaN\n",
    "data_movies['id'] = pd.to_numeric(data_movies['id'], errors='coerce')\n",
    "\n",
    "# Eliminar las filas que tengan NaN en la columna 'id'\n",
    "data_movies = data_movies.dropna(subset=['id'])\n",
    "\n",
    "# Convertir la columna 'id' a tipo entero\n",
    "data_movies['id'] = data_movies['id'].astype(int)"
   ]
  },
  {
   "cell_type": "code",
   "execution_count": 42,
   "metadata": {},
   "outputs": [
    {
     "name": "stdout",
     "output_type": "stream",
     "text": [
      "<class 'pandas.core.frame.DataFrame'>\n",
      "Index: 45376 entries, 0 to 45465\n",
      "Data columns (total 26 columns):\n",
      " #   Column                 Non-Null Count  Dtype         \n",
      "---  ------                 --------------  -----         \n",
      " 0   adult                  45376 non-null  object        \n",
      " 1   belongs_to_collection  4488 non-null   object        \n",
      " 2   budget                 45376 non-null  float64       \n",
      " 3   genres                 45376 non-null  object        \n",
      " 4   homepage               7766 non-null   object        \n",
      " 5   id                     45376 non-null  int64         \n",
      " 6   imdb_id                45362 non-null  object        \n",
      " 7   original_language      45365 non-null  object        \n",
      " 8   original_title         45376 non-null  object        \n",
      " 9   overview               44435 non-null  object        \n",
      " 10  popularity             45376 non-null  object        \n",
      " 11  poster_path            45037 non-null  object        \n",
      " 12  production_companies   45376 non-null  object        \n",
      " 13  production_countries   45376 non-null  object        \n",
      " 14  release_date           45376 non-null  datetime64[ns]\n",
      " 15  revenue                45376 non-null  float64       \n",
      " 16  runtime                45130 non-null  float64       \n",
      " 17  spoken_languages       45376 non-null  object        \n",
      " 18  status                 45296 non-null  object        \n",
      " 19  tagline                20398 non-null  object        \n",
      " 20  title                  45376 non-null  object        \n",
      " 21  video                  45376 non-null  object        \n",
      " 22  vote_average           45376 non-null  float64       \n",
      " 23  vote_count             45376 non-null  float64       \n",
      " 24  release_year           45376 non-null  float64       \n",
      " 25  return                 45376 non-null  float64       \n",
      "dtypes: datetime64[ns](1), float64(7), int64(1), object(17)\n",
      "memory usage: 9.3+ MB\n"
     ]
    }
   ],
   "source": [
    "data_movies.info()"
   ]
  },
  {
   "cell_type": "markdown",
   "metadata": {},
   "source": [
    "### Eliminacion de algunas columnas que no seran utilizadas\n",
    "\n",
    "* video\n",
    "* imdb\n",
    "* adult\n",
    "* original_title\n",
    "* poster_path\n",
    "* homepage\n",
    "* tagline\n",
    "* runtime\n",
    "* belongs_to_collection"
   ]
  },
  {
   "cell_type": "code",
   "execution_count": 43,
   "metadata": {},
   "outputs": [],
   "source": [
    "# Elimino las columnas que no se van a utilizar antes de seguir\n",
    "# con cambio de valores nulos o tipos de datos\n",
    "columnas_eliminar = [\"video\",\"imdb_id\",\"adult\",\"original_title\",\n",
    "                     \"tagline\",\"runtime\",\"poster_path\",\"homepage\",\n",
    "                     \"belongs_to_collection\"]\n",
    "data_movies = data_movies.drop(columns=columnas_eliminar)"
   ]
  },
  {
   "cell_type": "markdown",
   "metadata": {},
   "source": [
    "### Desanidando la columna genres"
   ]
  },
  {
   "cell_type": "code",
   "execution_count": 44,
   "metadata": {},
   "outputs": [],
   "source": [
    "data_movies['genres'] = data_movies['genres'].apply(ast.literal_eval)\n",
    "data_movies = data_movies.explode('genres')\n",
    "data_movies['genre_name'] = data_movies['genres'].apply(lambda x: x['name'] if isinstance(x, dict) else None)\n",
    "data_movies = data_movies.drop(columns=['genres'])"
   ]
  },
  {
   "cell_type": "markdown",
   "metadata": {},
   "source": [
    "### Teniendo en cuenta el modelo final (MPV) elimino otras columnas que luego no voy a tener en cuenta. "
   ]
  },
  {
   "cell_type": "code",
   "execution_count": 45,
   "metadata": {},
   "outputs": [],
   "source": [
    "columnas_eliminar = ['production_companies','production_countries',\n",
    "                     'spoken_languages']\n",
    "data_movies = data_movies.drop(columns=columnas_eliminar)"
   ]
  },
  {
   "cell_type": "markdown",
   "metadata": {},
   "source": [
    "### Verificamos tipos de datos"
   ]
  },
  {
   "cell_type": "code",
   "execution_count": null,
   "metadata": {},
   "outputs": [],
   "source": [
    "data_movies.info()"
   ]
  },
  {
   "cell_type": "markdown",
   "metadata": {},
   "source": [
    "### Cambiando algunos tipos de datos\n",
    "\n",
    "* Columna release_year\n",
    "* Columna genre_name\n",
    "* Columna title\n",
    "* Columna overviwe"
   ]
  },
  {
   "cell_type": "code",
   "execution_count": 46,
   "metadata": {},
   "outputs": [],
   "source": [
    "data_movies['release_year'] = data_movies['release_year'].astype('datetime64[ns]')\n",
    "data_movies['genre_name'] = data_movies['genre_name'].astype(str)\n",
    "data_movies['title'] = data_movies['title'].astype(str)\n",
    "data_movies['overview'] = data_movies['overview'].astype(str)"
   ]
  },
  {
   "cell_type": "code",
   "execution_count": 37,
   "metadata": {},
   "outputs": [
    {
     "name": "stdout",
     "output_type": "stream",
     "text": [
      "<class 'pandas.core.frame.DataFrame'>\n",
      "Index: 93420 entries, 0 to 45465\n",
      "Data columns (total 14 columns):\n",
      " #   Column             Non-Null Count  Dtype         \n",
      "---  ------             --------------  -----         \n",
      " 0   budget             93420 non-null  float64       \n",
      " 1   id                 93420 non-null  int64         \n",
      " 2   original_language  93403 non-null  object        \n",
      " 3   overview           93420 non-null  object        \n",
      " 4   popularity         93420 non-null  object        \n",
      " 5   release_date       93420 non-null  datetime64[ns]\n",
      " 6   revenue            93420 non-null  float64       \n",
      " 7   status             93296 non-null  object        \n",
      " 8   title              93420 non-null  object        \n",
      " 9   vote_average       93420 non-null  float64       \n",
      " 10  vote_count         93420 non-null  float64       \n",
      " 11  release_year       93420 non-null  datetime64[ns]\n",
      " 12  return             93420 non-null  float64       \n",
      " 13  genre_name         93420 non-null  object        \n",
      "dtypes: datetime64[ns](2), float64(5), int64(1), object(6)\n",
      "memory usage: 10.7+ MB\n"
     ]
    }
   ],
   "source": [
    "data_movies.info()"
   ]
  },
  {
   "cell_type": "code",
   "execution_count": 48,
   "metadata": {},
   "outputs": [
    {
     "data": {
      "text/plain": [
       "Index(['budget', 'id', 'original_language', 'overview', 'popularity',\n",
       "       'release_date', 'revenue', 'status', 'title', 'vote_average',\n",
       "       'vote_count', 'release_year', 'return', 'genre_name'],\n",
       "      dtype='object')"
      ]
     },
     "execution_count": 48,
     "metadata": {},
     "output_type": "execute_result"
    }
   ],
   "source": [
    "data_movies.columns"
   ]
  },
  {
   "cell_type": "markdown",
   "metadata": {},
   "source": [
    "### Guardamos el archivo en parquet y pasamos al EDA"
   ]
  },
  {
   "cell_type": "code",
   "execution_count": 47,
   "metadata": {},
   "outputs": [],
   "source": [
    "data_movies.to_parquet('../Source/data_movies.parquet')"
   ]
  }
 ],
 "metadata": {
  "kernelspec": {
   "display_name": "env_sistemreco",
   "language": "python",
   "name": "python3"
  },
  "language_info": {
   "codemirror_mode": {
    "name": "ipython",
    "version": 3
   },
   "file_extension": ".py",
   "mimetype": "text/x-python",
   "name": "python",
   "nbconvert_exporter": "python",
   "pygments_lexer": "ipython3",
   "version": "3.11.2"
  }
 },
 "nbformat": 4,
 "nbformat_minor": 2
}
