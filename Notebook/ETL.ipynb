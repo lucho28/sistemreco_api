{
 "cells": [
  {
   "cell_type": "markdown",
   "metadata": {},
   "source": [
    "## Comenzamos con la importancion de las librerias necesarias para este proyecto"
   ]
  },
  {
   "cell_type": "code",
   "execution_count": 1,
   "metadata": {},
   "outputs": [],
   "source": [
    "import numpy as np\n",
    "import pandas as pd\n",
    "import pyarrow\n",
    "import ast\n",
    "import matplotlib.pyplot as plt\n",
    "import seaborn as sns\n",
    "import pandas as pd\n",
    "from sklearn.feature_extraction.text import TfidfVectorizer\n",
    "from sklearn.neighbors import NearestNeighbors"
   ]
  },
  {
   "cell_type": "markdown",
   "metadata": {},
   "source": [
    "## Carga de los archivos CSV"
   ]
  },
  {
   "cell_type": "code",
   "execution_count": 2,
   "metadata": {},
   "outputs": [],
   "source": [
    "# Lectura de los archivos originales .csv provistos.\n",
    "data_movies = pd.read_csv('../datasets_originales/Movies/movies_dataset.csv', low_memory=False)\n",
    "data_credits = pd.read_csv('../datasets_originales/Movies/credits.csv', low_memory=False)"
   ]
  },
  {
   "cell_type": "markdown",
   "metadata": {},
   "source": [
    "## Comenzamos con el ETL para el datasets data_movies"
   ]
  },
  {
   "cell_type": "markdown",
   "metadata": {},
   "source": [
    "* Reemplazo de valores nulero de los campos revenue por 0\n",
    "* Reemplazo de valores nulero de los campos budget por 0\n",
    "* Eliminacion de los campos nulos de release_date\n",
    "* Cambiar formato AAAA-mm-dd de la columna release_date\n",
    "* Creacion de la columna release_year"
   ]
  },
  {
   "cell_type": "code",
   "execution_count": 3,
   "metadata": {},
   "outputs": [],
   "source": [
    "# Conversion de las columnas revenue, budget numericos\n",
    "# Intercambio nulos por Ceros\n",
    "data_movies['revenue'] = pd.to_numeric(data_movies['revenue'], errors='coerce').fillna(0)\n",
    "data_movies['budget'] = pd.to_numeric(data_movies['budget'], errors='coerce').fillna(0)\n",
    "\n",
    "# Eliminacion de nulos de la columna release_date y\n",
    "# paso todo al tipo de dato date y el formato YYYY-mm-dd\n",
    "data_movies = data_movies.dropna(subset='release_date')\n",
    "data_movies = data_movies[data_movies['release_date'] != '0']\n",
    "data_movies['release_date'] = pd.to_datetime(data_movies['release_date'], format='%Y-%m-%d', errors='coerce')\n",
    "\n",
    "# Creando la columna release_year\n",
    "data_movies['release_year'] = data_movies['release_date'].dt.year\n",
    "\n",
    "# Creando la columna return\n",
    "data_movies['return'] = data_movies.apply(lambda row: row['revenue'] / row['budget'] if row['budget'] > 0 else 0, axis=1)"
   ]
  },
  {
   "cell_type": "code",
   "execution_count": 4,
   "metadata": {},
   "outputs": [],
   "source": [
    "# Conversion la columna 'id' a numerico.\n",
    "data_movies['id'] = pd.to_numeric(data_movies['id'], errors='coerce')\n",
    "\n",
    "# Eliminando las filas que tengan NaN en la columna 'id'\n",
    "data_movies = data_movies.dropna(subset=['id'])\n",
    "\n",
    "# Convertir la columna 'id' a tipo entero\n",
    "data_movies['id'] = data_movies['id'].astype(int)"
   ]
  },
  {
   "cell_type": "code",
   "execution_count": 19,
   "metadata": {},
   "outputs": [
    {
     "name": "stdout",
     "output_type": "stream",
     "text": [
      "<class 'pandas.core.frame.DataFrame'>\n",
      "Index: 45376 entries, 0 to 45465\n",
      "Data columns (total 26 columns):\n",
      " #   Column                 Non-Null Count  Dtype         \n",
      "---  ------                 --------------  -----         \n",
      " 0   adult                  45376 non-null  object        \n",
      " 1   belongs_to_collection  4488 non-null   object        \n",
      " 2   budget                 45376 non-null  float64       \n",
      " 3   genres                 45376 non-null  object        \n",
      " 4   homepage               7766 non-null   object        \n",
      " 5   id                     45376 non-null  int64         \n",
      " 6   imdb_id                45362 non-null  object        \n",
      " 7   original_language      45365 non-null  object        \n",
      " 8   original_title         45376 non-null  object        \n",
      " 9   overview               44435 non-null  object        \n",
      " 10  popularity             45376 non-null  object        \n",
      " 11  poster_path            45037 non-null  object        \n",
      " 12  production_companies   45376 non-null  object        \n",
      " 13  production_countries   45376 non-null  object        \n",
      " 14  release_date           45376 non-null  datetime64[ns]\n",
      " 15  revenue                45376 non-null  float64       \n",
      " 16  runtime                45130 non-null  float64       \n",
      " 17  spoken_languages       45376 non-null  object        \n",
      " 18  status                 45296 non-null  object        \n",
      " 19  tagline                20398 non-null  object        \n",
      " 20  title                  45376 non-null  object        \n",
      " 21  video                  45376 non-null  object        \n",
      " 22  vote_average           45376 non-null  float64       \n",
      " 23  vote_count             45376 non-null  float64       \n",
      " 24  release_year           45376 non-null  float64       \n",
      " 25  return                 45376 non-null  float64       \n",
      "dtypes: datetime64[ns](1), float64(7), int64(1), object(17)\n",
      "memory usage: 9.3+ MB\n"
     ]
    }
   ],
   "source": [
    "data_movies.info()"
   ]
  },
  {
   "cell_type": "markdown",
   "metadata": {},
   "source": [
    "### Eliminacion de algunas columnas que no seran utilizadas\n",
    "\n",
    "* video\n",
    "* imdb\n",
    "* adult\n",
    "* original_title\n",
    "* poster_path\n",
    "* homepage\n",
    "* tagline\n",
    "* runtime\n",
    "* belongs_to_collection"
   ]
  },
  {
   "cell_type": "code",
   "execution_count": 5,
   "metadata": {},
   "outputs": [],
   "source": [
    "# Elimino las columnas que no se van a utilizar antes de seguir\n",
    "# con el cambio de valores nulos o tipos de datos\n",
    "columnas_eliminar = ['video','imdb_id','adult','original_title',\n",
    "                     'tagline','runtime','poster_path','homepage',\n",
    "                     'belongs_to_collection']\n",
    "data_movies = data_movies.drop(columns=columnas_eliminar)"
   ]
  },
  {
   "cell_type": "markdown",
   "metadata": {},
   "source": [
    "### Desanidando la columna genres: Los pasos los explicamos arriba de cada linea del codigo."
   ]
  },
  {
   "cell_type": "code",
   "execution_count": 6,
   "metadata": {},
   "outputs": [],
   "source": [
    "# Convertimos el texto de la columna 'genres' a una lista de diccionarios\n",
    "data_movies['genres'] = data_movies['genres'].apply(ast.literal_eval)\n",
    "\n",
    "# Desanidamos la lista de generos y creamos una fila por cada genero en una pelicula\n",
    "data_movies = data_movies.explode('genres')\n",
    "\n",
    "# Extraemos el nombre del genero de cada diccionario y lo guarda en una nueva columna 'genre_name'\n",
    "data_movies['genre_name'] = data_movies['genres'].apply(lambda x: x['name'] if isinstance(x, dict) else None)\n",
    "\n",
    "# Eliminamos la columna original 'genres'\n",
    "data_movies = data_movies.drop(columns=['genres'])"
   ]
  },
  {
   "cell_type": "markdown",
   "metadata": {},
   "source": [
    "### Teniendo en cuenta el modelo final (MVP) elimino otras columnas que luego no voy a tener en cuenta. \n",
    "\n",
    "* production_companies\n",
    "* production_countries\n",
    "* spoken_languages"
   ]
  },
  {
   "cell_type": "code",
   "execution_count": 7,
   "metadata": {},
   "outputs": [],
   "source": [
    "columnas_eliminar = ['production_companies','production_countries',\n",
    "                     'spoken_languages']\n",
    "data_movies = data_movies.drop(columns=columnas_eliminar)"
   ]
  },
  {
   "cell_type": "markdown",
   "metadata": {},
   "source": [
    "### Verificamos tipos de datos"
   ]
  },
  {
   "cell_type": "code",
   "execution_count": 23,
   "metadata": {},
   "outputs": [
    {
     "name": "stdout",
     "output_type": "stream",
     "text": [
      "<class 'pandas.core.frame.DataFrame'>\n",
      "Index: 93420 entries, 0 to 45465\n",
      "Data columns (total 14 columns):\n",
      " #   Column             Non-Null Count  Dtype         \n",
      "---  ------             --------------  -----         \n",
      " 0   budget             93420 non-null  float64       \n",
      " 1   id                 93420 non-null  int64         \n",
      " 2   original_language  93403 non-null  object        \n",
      " 3   overview           92104 non-null  object        \n",
      " 4   popularity         93420 non-null  object        \n",
      " 5   release_date       93420 non-null  datetime64[ns]\n",
      " 6   revenue            93420 non-null  float64       \n",
      " 7   status             93296 non-null  object        \n",
      " 8   title              93420 non-null  object        \n",
      " 9   vote_average       93420 non-null  float64       \n",
      " 10  vote_count         93420 non-null  float64       \n",
      " 11  release_year       93420 non-null  float64       \n",
      " 12  return             93420 non-null  float64       \n",
      " 13  genre_name         91036 non-null  object        \n",
      "dtypes: datetime64[ns](1), float64(6), int64(1), object(6)\n",
      "memory usage: 10.7+ MB\n"
     ]
    }
   ],
   "source": [
    "data_movies.info()"
   ]
  },
  {
   "cell_type": "markdown",
   "metadata": {},
   "source": [
    "### Cambiando algunos tipos de datos\n",
    "\n",
    "* Columna release_year\n",
    "* Columna genre_name\n",
    "* Columna title\n",
    "* Columna overviwe"
   ]
  },
  {
   "cell_type": "code",
   "execution_count": 8,
   "metadata": {},
   "outputs": [],
   "source": [
    "# Convirtiendo la columna 'release_year' a tipo datetime\n",
    "data_movies['release_year'] = data_movies['release_year'].astype('datetime64[ns]')\n",
    "\n",
    "# Convirtiendo la columna 'genre_name' a tipo string\n",
    "data_movies['genre_name'] = data_movies['genre_name'].astype(str)\n",
    "\n",
    "# Convirtiendo la columna 'title' a tipo string\n",
    "data_movies['title'] = data_movies['title'].astype(str)\n",
    "\n",
    "# Convirtiendo la columna 'overview' a tipo string\n",
    "data_movies['overview'] = data_movies['overview'].astype(str)"
   ]
  },
  {
   "cell_type": "code",
   "execution_count": 34,
   "metadata": {},
   "outputs": [
    {
     "name": "stdout",
     "output_type": "stream",
     "text": [
      "<class 'pandas.core.frame.DataFrame'>\n",
      "Index: 93420 entries, 0 to 45465\n",
      "Data columns (total 14 columns):\n",
      " #   Column             Non-Null Count  Dtype         \n",
      "---  ------             --------------  -----         \n",
      " 0   budget             93420 non-null  float64       \n",
      " 1   id                 93420 non-null  int64         \n",
      " 2   original_language  93403 non-null  object        \n",
      " 3   overview           93420 non-null  object        \n",
      " 4   popularity         93420 non-null  object        \n",
      " 5   release_date       93420 non-null  datetime64[ns]\n",
      " 6   revenue            93420 non-null  float64       \n",
      " 7   status             93296 non-null  object        \n",
      " 8   title              93420 non-null  object        \n",
      " 9   vote_average       93420 non-null  float64       \n",
      " 10  vote_count         93420 non-null  float64       \n",
      " 11  release_year       93420 non-null  datetime64[ns]\n",
      " 12  return             93420 non-null  float64       \n",
      " 13  genre_name         93420 non-null  object        \n",
      "dtypes: datetime64[ns](2), float64(5), int64(1), object(6)\n",
      "memory usage: 10.7+ MB\n"
     ]
    }
   ],
   "source": [
    "data_movies.info()"
   ]
  },
  {
   "cell_type": "code",
   "execution_count": 35,
   "metadata": {},
   "outputs": [
    {
     "data": {
      "text/plain": [
       "Index(['budget', 'id', 'original_language', 'overview', 'popularity',\n",
       "       'release_date', 'revenue', 'status', 'title', 'vote_average',\n",
       "       'vote_count', 'release_year', 'return', 'genre_name'],\n",
       "      dtype='object')"
      ]
     },
     "execution_count": 35,
     "metadata": {},
     "output_type": "execute_result"
    }
   ],
   "source": [
    "data_movies.columns"
   ]
  },
  {
   "cell_type": "markdown",
   "metadata": {},
   "source": [
    "### Guardamos el archivo en parquet en la carpeta Source. De ahi sera consumido por la API."
   ]
  },
  {
   "cell_type": "code",
   "execution_count": 9,
   "metadata": {},
   "outputs": [],
   "source": [
    "data_movies.to_parquet('../Source/data_movies.parquet')"
   ]
  },
  {
   "cell_type": "markdown",
   "metadata": {},
   "source": [
    "***\n",
    "---"
   ]
  },
  {
   "cell_type": "markdown",
   "metadata": {},
   "source": [
    "## ETL para el dataset data_credits"
   ]
  },
  {
   "cell_type": "markdown",
   "metadata": {},
   "source": [
    "### Pasos a seguir:\n",
    "\n",
    "* Desanidar la columna crew para quedarme con los id de peliculas y los nombres de los directores.\n",
    "* Desanidar la columna cast para quedarme con los id de peliculas y los nombres de los actores.\n",
    "* Seran 2 datasets diferentes data_credits_actores y data_credits_directores. Los cuales los voy a usar en conjunto con el data_movies."
   ]
  },
  {
   "cell_type": "markdown",
   "metadata": {},
   "source": [
    "### Desanidando la columna crew"
   ]
  },
  {
   "cell_type": "code",
   "execution_count": 10,
   "metadata": {},
   "outputs": [],
   "source": [
    "# Conviertiendo las cadenas en la columna 'crew' a listas de diccionarios.\n",
    "data_credits['crew'] = data_credits['crew'].apply(lambda x: ast.literal_eval(x) if isinstance(x, str) else x)\n",
    "\n",
    "# Desanidando la columna 'crew' (explode) creando una fila por cada elemento en la lista\n",
    "data_credits_exploded = data_credits.explode('crew')\n",
    "\n",
    "# Restablezco el indice por problemas con duplicados despues de desanidar\n",
    "data_credits_exploded = data_credits_exploded.reset_index(drop=True)\n",
    "\n",
    "# Normalizo los diccionarios dentro de la columna 'crew' en columnas separadas\n",
    "data_credits_crew = pd.json_normalize(data_credits_exploded['crew'])\n",
    "\n",
    "# Mantengo la columna 'id' de la pelicula en el dataset normalizado\n",
    "data_credits_crew['id'] = data_credits_exploded['id']\n",
    "\n",
    "# Filtrado de las filas que tengan 'Director'\n",
    "data_credits_directores = data_credits_crew[data_credits_crew['job'] == 'Director']\n",
    "\n",
    "# Me quedo solo con las columnas 'id' y 'name', y renombra la columna 'name' a 'director'\n",
    "data_credits_directores = data_credits_directores[['id', 'name']].rename(columns={'name': 'director'})"
   ]
  },
  {
   "cell_type": "code",
   "execution_count": 30,
   "metadata": {},
   "outputs": [
    {
     "data": {
      "text/html": [
       "<div>\n",
       "<style scoped>\n",
       "    .dataframe tbody tr th:only-of-type {\n",
       "        vertical-align: middle;\n",
       "    }\n",
       "\n",
       "    .dataframe tbody tr th {\n",
       "        vertical-align: top;\n",
       "    }\n",
       "\n",
       "    .dataframe thead th {\n",
       "        text-align: right;\n",
       "    }\n",
       "</style>\n",
       "<table border=\"1\" class=\"dataframe\">\n",
       "  <thead>\n",
       "    <tr style=\"text-align: right;\">\n",
       "      <th></th>\n",
       "      <th>id</th>\n",
       "      <th>director</th>\n",
       "    </tr>\n",
       "  </thead>\n",
       "  <tbody>\n",
       "    <tr>\n",
       "      <th>0</th>\n",
       "      <td>862</td>\n",
       "      <td>John Lasseter</td>\n",
       "    </tr>\n",
       "    <tr>\n",
       "      <th>109</th>\n",
       "      <td>8844</td>\n",
       "      <td>Joe Johnston</td>\n",
       "    </tr>\n",
       "    <tr>\n",
       "      <th>122</th>\n",
       "      <td>15602</td>\n",
       "      <td>Howard Deutch</td>\n",
       "    </tr>\n",
       "    <tr>\n",
       "      <th>126</th>\n",
       "      <td>31357</td>\n",
       "      <td>Forest Whitaker</td>\n",
       "    </tr>\n",
       "    <tr>\n",
       "      <th>141</th>\n",
       "      <td>11862</td>\n",
       "      <td>Charles Shyer</td>\n",
       "    </tr>\n",
       "  </tbody>\n",
       "</table>\n",
       "</div>"
      ],
      "text/plain": [
       "        id         director\n",
       "0      862    John Lasseter\n",
       "109   8844     Joe Johnston\n",
       "122  15602    Howard Deutch\n",
       "126  31357  Forest Whitaker\n",
       "141  11862    Charles Shyer"
      ]
     },
     "execution_count": 30,
     "metadata": {},
     "output_type": "execute_result"
    }
   ],
   "source": [
    "data_credits_directores.head()"
   ]
  },
  {
   "cell_type": "markdown",
   "metadata": {},
   "source": [
    "### Desanidando la columna cast"
   ]
  },
  {
   "cell_type": "code",
   "execution_count": 11,
   "metadata": {},
   "outputs": [],
   "source": [
    "# Convierto las cadenas en la columna 'cast' a listas de diccionarios.\n",
    "data_credits['cast'] = data_credits['cast'].apply(lambda x: ast.literal_eval(x) if isinstance(x, str) else x)\n",
    "\n",
    "# Desanido la columna 'cast', creando una fila por cada elemento en la lista\n",
    "data_credits_exploded = data_credits.explode('cast')\n",
    "\n",
    "# Restablezco el indice por problemas con duplicados despues de desanidar\n",
    "data_credits_exploded = data_credits_exploded.reset_index(drop=True)\n",
    "\n",
    "# Normalizo los diccionarios dentro de la columna 'cast' en columnas separadas\n",
    "data_credits_cast = pd.json_normalize(data_credits_exploded['cast'])\n",
    "\n",
    "# Mantengo la columna 'id' de la pelicula en el dataset normalizado\n",
    "data_credits_cast['id'] = data_credits_exploded['id']\n",
    "\n",
    "# Me quedo solo con las columnas 'id' y 'name', y renombra la columna 'name' a 'actor'\n",
    "data_credits_actores = data_credits_cast[['id', 'name']].rename(columns={'name': 'actor'})"
   ]
  },
  {
   "cell_type": "code",
   "execution_count": 14,
   "metadata": {},
   "outputs": [
    {
     "data": {
      "text/html": [
       "<div>\n",
       "<style scoped>\n",
       "    .dataframe tbody tr th:only-of-type {\n",
       "        vertical-align: middle;\n",
       "    }\n",
       "\n",
       "    .dataframe tbody tr th {\n",
       "        vertical-align: top;\n",
       "    }\n",
       "\n",
       "    .dataframe thead th {\n",
       "        text-align: right;\n",
       "    }\n",
       "</style>\n",
       "<table border=\"1\" class=\"dataframe\">\n",
       "  <thead>\n",
       "    <tr style=\"text-align: right;\">\n",
       "      <th></th>\n",
       "      <th>id</th>\n",
       "      <th>actor</th>\n",
       "    </tr>\n",
       "  </thead>\n",
       "  <tbody>\n",
       "    <tr>\n",
       "      <th>0</th>\n",
       "      <td>862</td>\n",
       "      <td>Tom Hanks</td>\n",
       "    </tr>\n",
       "    <tr>\n",
       "      <th>1</th>\n",
       "      <td>862</td>\n",
       "      <td>Tim Allen</td>\n",
       "    </tr>\n",
       "    <tr>\n",
       "      <th>2</th>\n",
       "      <td>862</td>\n",
       "      <td>Don Rickles</td>\n",
       "    </tr>\n",
       "    <tr>\n",
       "      <th>3</th>\n",
       "      <td>862</td>\n",
       "      <td>Jim Varney</td>\n",
       "    </tr>\n",
       "    <tr>\n",
       "      <th>4</th>\n",
       "      <td>862</td>\n",
       "      <td>Wallace Shawn</td>\n",
       "    </tr>\n",
       "  </tbody>\n",
       "</table>\n",
       "</div>"
      ],
      "text/plain": [
       "    id          actor\n",
       "0  862      Tom Hanks\n",
       "1  862      Tim Allen\n",
       "2  862    Don Rickles\n",
       "3  862     Jim Varney\n",
       "4  862  Wallace Shawn"
      ]
     },
     "execution_count": 14,
     "metadata": {},
     "output_type": "execute_result"
    }
   ],
   "source": [
    "data_credits_actores.head()"
   ]
  },
  {
   "cell_type": "markdown",
   "metadata": {},
   "source": [
    "### Guardamos ambos dataset en parque para luego ser consumidos por la API"
   ]
  },
  {
   "cell_type": "code",
   "execution_count": 12,
   "metadata": {},
   "outputs": [],
   "source": [
    "data_credits_actores.to_parquet('../Source/data_credits_actores.parquet')\n",
    "data_credits_directores.to_parquet('../Source/data_credits_directores.parquet')"
   ]
  }
 ],
 "metadata": {
  "kernelspec": {
   "display_name": "env_sistemreco",
   "language": "python",
   "name": "python3"
  },
  "language_info": {
   "codemirror_mode": {
    "name": "ipython",
    "version": 3
   },
   "file_extension": ".py",
   "mimetype": "text/x-python",
   "name": "python",
   "nbconvert_exporter": "python",
   "pygments_lexer": "ipython3",
   "version": "3.11.2"
  }
 },
 "nbformat": 4,
 "nbformat_minor": 2
}
